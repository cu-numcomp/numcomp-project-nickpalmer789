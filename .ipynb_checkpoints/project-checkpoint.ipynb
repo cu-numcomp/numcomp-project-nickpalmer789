{
 "cells": [
  {
   "cell_type": "markdown",
   "metadata": {},
   "source": [
    "# Project: **Numerical Differentiation with Richardson Extrapolation** in **numdifftools**\n",
    "\n",
    "This notebook is a blank slate for you to write in.  Feel free to include figures (don't forget to add/commit them to your repository) and examples.  You can change the kernel (from `Python 3`; see upper right) if the open source project you're writing about does not use Python.  You can write from the prompts below or delete all the cells and start fresh.  Note that Git will always contain your history.\n",
    "\n",
    "You can run shell commands:"
   ]
  },
  {
   "cell_type": "code",
   "execution_count": 10,
   "metadata": {},
   "outputs": [],
   "source": [
    "%matplotlib inline\n",
    "import numpy as np\n",
    "import matplotlib.pyplot as plt\n",
    "import numdifftools as nd\n",
    "plt.style.use('ggplot')"
   ]
  },
  {
   "cell_type": "markdown",
   "metadata": {},
   "source": [
    "The following prompts may be useful, but you don't have to use them.\n",
    "## About the method\n",
    "\n",
    "We can calculate the derivative of a function $f(x)$ by using the centered limit definition of the derivative:\n",
    "\n",
    "$$f'(x) = \\lim_{h \\rightarrow 0} \\frac{f(x + h) - f(x - h)}{2h}$$\n",
    "\n",
    "Where $h$ is the step size. This, of course, assumes that we can make $h$ arbitrarily small. However, numerically this is impossible, as computers have a limit on the range of numbers that they can represent. Therefore, using this method, we can only represent values of $h$ that are as small as $\\epsilon_{machine}$. Therefore, since we must use representable step sizes for $h$, we can rework the above definition to include an error term: \n",
    "\n",
    "$$f'(x) = \\frac{f(x + h) - f(x - h)}{2h} + O(h^2)$$\n",
    "\n",
    "From this we can see that the error term is on the order of $h^2$. From this, it must seem that when we reduce $h$ by half, we should reduce the error by a factor of 4. Let us see how this works in practice below. "
   ]
  },
  {
   "cell_type": "code",
   "execution_count": 3,
   "metadata": {},
   "outputs": [
    {
     "data": {
      "image/png": "[encoded data removed]",
      "text/plain": [
       "<Figure size 432x288 with 1 Axes>"
      ]
     },
     "metadata": {},
     "output_type": "display_data"
    }
   ],
   "source": [
    "#Note that this code was taken from the 4/7 in class activity for illustrative purposes\n",
    "#Slight modifications were made\n",
    "def compute_errors(diff, f, fp, x=np.linspace(-4, 4)):\n",
    "    hs = np.geomspace(1e-15, 1, 16)\n",
    "    errors = [np.linalg.norm(diff(f, x, h) - fp(x), np.inf) for h in hs]\n",
    "    return hs, errors\n",
    "\n",
    "\n",
    "def diff2(f, x, h):\n",
    "    return (f(x + h) - f(x - h)) / (2*h)\n",
    "\n",
    "hs, errors = compute_errors(diff2, np.sin, np.cos)\n",
    "\n",
    "plt.loglog(hs, errors, 'o', label='num diff')\n",
    "plt.xlabel('$h$')\n",
    "plt.ylabel('max error')\n",
    "plt.ylim(1e-12, 1)\n",
    "plt.legend();"
   ]
  },
  {
   "cell_type": "markdown",
   "metadata": {},
   "source": [
    "In the above plot we can see how as we reduce the step size $h$ by a factor of 10, the absolute error is reduced by approximately 10. In other words, we gain an additional digit of accuracy. However, we also see that when $h = 10^{-5}$ (as calculated on my machine), the error begins to increase again, rather than continuing to decrease as we expect it to. \n",
    "\n",
    "The main reason that we see this type of behavior is due to subtractive cancellation. Subtractive cancellation is the error that is introduced by subtracting two values with finite accuracy that are very close to each other. Recall the original function for computing the derivative of a function:\n",
    "\n",
    "$$f'(x) = \\frac{f(x + h) - f(x - h)}{2h} + O(h^2)$$\n",
    "\n",
    "As $h$ gets smaller and smaller, the values of $f(x + h)$ and $f(x - h)$ successively get closer together. Because the calculation for $f(x)$ has finite accuracy, we begin to require greater and greater accuracy in our calculation of $f(x)$ to avoid this subtractive cancellation error. We can see this in action below. \n",
    "\n",
    "Suppose we want to calculate $f(x + h) - f(x)$ with 10 digits of accuracy. If $h = 0.00001$, $x = 1$, and $f(x) = sin(x)$, we need 15 digits of accuracy when calculating $sin(1.01)$, since the first 5 digits of the calculation cancel to zero. \n",
    "\n",
    "$$\\frac{sin(1.00001) - sin(1)}{0.1}$$\n",
    "\n",
    "Doing the calculations we get the following: \n",
    "\n",
    "$$\n",
    "\\begin{align*}\n",
    "&0.841476387788881\\\\   \n",
    "-\\phantom{y=}&&\\\\    \n",
    "&0.841470984807896\\\\\\hline   \n",
    "&0.000005402980985    \n",
    "\\end{align*}\n",
    "$$\n",
    "\n",
    "So, from this we can see that when $h$ get sufficiently small, we begin to get subtractive cancellation due to the finite accuracy of our calculation of $f(x)$.\n",
    "\n",
    "For many applications, the error that results from this method is acceptable, but many applications may require a more accurate calculation, with a lower error. Therefore, the question is how to calculate a more accurate answer, without increasing the accuracy of the calculations that are possible on the computer. How can we avoid this roundoff error?\n",
    "\n",
    "<hr>\n",
    "\n",
    "We can again rework the above definition to see that the error is proportional to $h^2$.\n",
    "\n",
    "$$f'(x) \\approx \\frac{f(x + h) - f(x - h)}{2h} + Ch^2$$\n",
    "\n",
    "Now we can see that the error in the above term is proportional to some constant C. For the sake of syntactical simplicity, let us define the centered differentiation of a function $f$ at a point $x$ with step size $h$ as follows: \n",
    "\n",
    "$$D(f, x, h) = \\frac{f(x + h) - f(x - h)}{2h}$$\n",
    "\n",
    "Where the error term can be expressed as $Ch^2$. We now know that the true value for a derivative $T_v$ can be approximated as follows: \n",
    "\n",
    "$$T_v = D(f, x, h) + Ch^2$$\n",
    "\n",
    "When we halve the step size to $h/2$, we obtain the following: \n",
    "\n",
    "$$T_v = D(f, x, \\frac{h}{2}) + C\\frac{h^2}{4}$$\n",
    "\n",
    "Now, we can solve the above system of equationms for $T_v$ by subtracting out the term $C$:\n",
    "\n",
    "$$\n",
    "\\begin{align*}\n",
    "&T_v = D(f, x, h) + Ch^2\\\\   \n",
    "-\\phantom{y=}&&\\\\    \n",
    "&4T_v = 4D(f, x, \\frac{h}{2}) + Ch^2\\\\\\hline   \n",
    "&-3T_v = D(f, x, h) - 4D(f, x, \\frac{h}{2})\n",
    "\\end{align*}\n",
    "$$\n",
    "\n",
    "Simplifying: \n",
    "\n",
    "$$T_v = \\frac{4D(f, x, \\frac{h}{2}) - D(f, x, h)}{3}$$\n",
    "\n",
    "Now, we have again solved for the value $T_v$, however, we now avoid the subtractive cancellation error, as $4D(f, x, \\frac{h}{2})$ and $F(f, x, h)$ are not so close to each other any more.\n",
    "\n",
    "Using this method, we can actually repeat the process over and over to get better approximations as shown with the function $u$ below:"
   ]
  },
  {
   "cell_type": "markdown",
   "metadata": {},
   "source": [
    "![Richardson Extrapolation](richardson.png)\n",
    "\n",
    "**Fig. 1. Still from Differentiation and Richardson Extrapolation (41:03)**"
   ]
  },
  {
   "cell_type": "markdown",
   "metadata": {},
   "source": [
    "In the image above, we have the approximation $R$ which successively calculates better and better approximations of the derivative of $u$ at $x$. The value $R_{5,3}$ is the best approximation of the derivative that has been calculated. Also note that in the second column, the error is reduced by a factor of 4 each time $h$ is halved, and in the third column, it is reduced by a factor of 16 each time. \n",
    "\n",
    "In fact, we see that the formula for each entry is as follows: \n",
    "\n",
    "$$R_{i, n} = \\frac{2^n R_{i, n-1} - R_{i-1, n-1}}{2^n - 1}$$\n",
    "\n",
    "If we think of these entries as being a matrix, we notice that each entry is simply a linear combination of two other entries. Using this we can write a function which allows us to calculate the first column of entries, and then successively calculate the next columns in the matrix.\n",
    "\n",
    "The only limit on how many times this can be repeated is how small $h$ can be represented on the machine. Below we calculate how many times this could be repeated (the results are as calculated on my machine). "
   ]
  },
  {
   "cell_type": "code",
   "execution_count": 9,
   "metadata": {},
   "outputs": [
    {
     "name": "stdout",
     "output_type": "stream",
     "text": [
      "With a machine epsilon of 2.220446049250313e-16, Richardson Extrapolation can be repeated 52 times.\n"
     ]
    }
   ],
   "source": [
    "float_epsilon = np.finfo(float).eps\n",
    "count = 0\n",
    "h = 1\n",
    "\n",
    "while(h > float_epsilon):\n",
    "    count += 1\n",
    "    h /= 2\n",
    "\n",
    "print('With a machine epsilon of ' + str(float_epsilon) + ', Richardson Extrapolation can be repeated ' + str(count) + ' times.')"
   ]
  },
  {
   "cell_type": "markdown",
   "metadata": {},
   "source": [
    "Clearly, the Richardson Extrapolation can be used to obtain extremely accurate results for numerical differentiation, as it can be repeated for as long as your machine will allow smaller representations of $h$."
   ]
  },
  {
   "cell_type": "markdown",
   "metadata": {},
   "source": [
    "## About Numdiftools\n",
    "\n",
    "The numdiff tools repository can be found at the link below: \n",
    "\n",
    "https://github.com/pbrod/numdifftools\n",
    "\n",
    "Numdifftools is a python library which is designed to solve numerical differentiation problems in one or more dimensions. The package also allows the user to specify many parameters for how these problems should be solved, such as whether forward or backward differences are used, or even the method of extrapolation used.\n",
    "\n",
    "The package was written by Per A. Brodtkorb based on the adaptive numerical differentiation toolbox in Matlab. \n",
    "\n",
    "The package also combines the capability to calculate numerical differentiation problems with the Richardson extrapolation method to create maximally accurate results. \n",
    "\n",
    "Installing the package is extremely simple. It can be installed with the following command:\n",
    "\n",
    "`pip install numdifftools`\n",
    "\n",
    "Calling the package is also extremely simple, as can be seen below:"
   ]
  },
  {
   "cell_type": "code",
   "execution_count": 23,
   "metadata": {},
   "outputs": [
    {
     "data": {
      "text/plain": [
       "Text(0, 0.5, 'y')"
      ]
     },
     "execution_count": 23,
     "metadata": {},
     "output_type": "execute_result"
    },
    {
     "data": {
      "image/png": "[encoded data removed]",
      "text/plain": [
       "<Figure size 432x288 with 1 Axes>"
      ]
     },
     "metadata": {},
     "output_type": "display_data"
    }
   ],
   "source": [
    "import numdifftools as nd\n",
    "\n",
    "x = np.linspace(-1, 1, 100)\n",
    "\n",
    "#Define some function to take the derivative of\n",
    "def f(x):\n",
    "    return x**10\n",
    "\n",
    "for i in range(10):\n",
    "    df = nd.Derivative(f, n=i)\n",
    "    y = df(x)\n",
    "    h = plt.plot(x, y)\n",
    "    \n",
    "plt.title(\"Derivatives of Sin(x)\")\n",
    "plt.xlabel(\"x\")\n",
    "plt.ylabel(\"y\")"
   ]
  },
  {
   "cell_type": "markdown",
   "metadata": {},
   "source": [
    "In fact, the numdifftools package can compute up to the 10th derivative of a given function, as can be seen in the plot above. "
   ]
  },
  {
   "cell_type": "markdown",
   "metadata": {},
   "source": [
    "## Method as it appears in numdifftools\n",
    "\n",
    "What role does the method play in the software? How does one call it (perhaps via a higher level interface that uses the method)? Are there particular performance concerns that went into its use? How expensive is it? Can you express performance in terms that are relevant to a user? How about accuracy, conditioning, or stability in the chosen formulation?\n",
    "\n",
    "Below, we can see some of the code that is key in actually performing the derivatives and Richardson extrapolation:\n",
    "\n",
    "```c\n",
    "#Function defined in the Limit class, which is the parent class of the Derivative class\n",
    "def _extrapolate(self, results, steps, shape):\n",
    "    der1, errors1, steps = self.richardson(results, steps)\n",
    "    if len(der1) > 2:\n",
    "        der1, errors1, steps = self._wynn_extrapolate(der1, steps)\n",
    "    der, info = self._get_best_estimate(der1, errors1, steps, shape)\n",
    "    return der, info\n",
    "\n",
    "#Function defined in the Richardson class\n",
    "#This is called when self.richardson() is called\n",
    "#This function actually performs the richardson extrapolation using the convolve function below\n",
    "def __call__(self, sequence, steps):\n",
    "    ne = sequence.shape[0]\n",
    "    rule = self.rule(ne)\n",
    "    nr = rule.size - 1\n",
    "    m = ne - nr\n",
    "    mm = min(ne, m + 1)\n",
    "    new_sequence = convolve(sequence, rule[::-1], axis=0, origin=nr // 2)\n",
    "    abserr = self._estimate_error(new_sequence[:mm], sequence, steps, rule)\n",
    "    return new_sequence[:m], abserr[:m], steps[:m]\n",
    "\n",
    "#Function defined in the Derivative class\n",
    "#Zero order derivative (essentially evaluates the function without actually taking the derivative)\n",
    "def _derivative_zero_order(self, xi, args, kwds):\n",
    "    steps = [np.zeros_like(xi)]\n",
    "    results = [self.fun(xi, *args, **kwds)]\n",
    "    self.set_richardson_rule(2, 0)\n",
    "    return self._vstack(results, steps)\n",
    "\n",
    "#Function defined in the Derivative class\n",
    "#Non-zero order derivative\n",
    "def _derivative_nonzero_order(self, xi, args, kwds):\n",
    "    diff, f = self._get_functions(args, kwds)\n",
    "    steps, step_ratio = self._get_steps(xi)\n",
    "    fxi = self._eval_first(f, xi)\n",
    "    results = [diff(f, fxi, xi, h) for h in steps]\n",
    "\n",
    "    self.set_richardson_rule(step_ratio, self.richardson_terms)\n",
    "\n",
    "    return self._apply_fd_rule(step_ratio, results, steps)\n",
    "```\n",
    "\n",
    "Looking at the above code, we can see that in order to use the Richardon extrapolation method to increase accuracy, there is nothing else that needs to be done. The reason for this is that the Derivative class, which numerically takes derivatives up to 10th order, has the Richardson extrapolation method baked into it. \n",
    "\n",
    "Overall, due to the formulation of the calculation of Richardson extrapolation, we can see that Richardson extrapolation takes $O(n^2)$ time computationally as opposed to the $O(1)$ computation time required to simply take a single differenced derivative. However, if you choose the value of $n$ wisely, then this won't be much more expensive in practice. Even with a value $n=5$, your computation won't take much longer in practice than taking a simple differenced derivative. \n",
    "\n",
    "### Open questions\n",
    "\n",
    "* What other applications can Richardson extrapolation be used for? \n",
    "* Is there some way to allow for even more digits of accuracy past what Richardson extrapolation will allow for?\n",
    "* Could we potentially use a different approach to representing $h$, which would allow us to get more digits of accuracy from Richardson extrapolation?\n"
   ]
  },
  {
   "cell_type": "markdown",
   "metadata": {},
   "source": [
    "Works Cited: \n",
    "\n",
    "Differentiation and Richardson Extrapolation. (2012). Retrieved from https://www.youtube.com/watch?v=stJ0rYor-kA\n",
    "\n",
    "Brodtkorb, P. A. (2020, March 30). pbrod/numdifftools. Retrieved April 14, 2020, from https://github.com/pbrod/numdifftools/"
   ]
  }
 ],
 "metadata": {
  "kernelspec": {
   "display_name": "Python 3",
   "language": "python",
   "name": "python3"
  },
  "language_info": {
   "codemirror_mode": {
    "name": "ipython",
    "version": 3
   },
   "file_extension": ".py",
   "mimetype": "text/x-python",
   "name": "python",
   "nbconvert_exporter": "python",
   "pygments_lexer": "ipython3",
   "version": "3.8.1"
  }
 },
 "nbformat": 4,
 "nbformat_minor": 4
}
